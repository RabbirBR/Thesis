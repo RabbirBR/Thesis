{
 "cells": [
  {
   "cell_type": "code",
   "execution_count": null,
   "metadata": {},
   "outputs": [],
   "source": [
    "import cv2\n",
    "import os\n",
    "\n",
    "from IPython.display import clear_output"
   ]
  },
  {
   "cell_type": "code",
   "execution_count": null,
   "metadata": {},
   "outputs": [],
   "source": [
    "# function to downsample and upsample a given image a specified number of times.\n",
    "def downsample(image, times):\n",
    "    for i in range(times):\n",
    "        image = cv2.pyrDown(image)\n",
    "    for i in range(times):\n",
    "        image = cv2.pyrUp(image)\n",
    "        \n",
    "    return image"
   ]
  },
  {
   "cell_type": "code",
   "execution_count": null,
   "metadata": {},
   "outputs": [],
   "source": [
    "data_segments = ['Train', 'Test', 'Eval']\n",
    "dir_root = \"dataset/Bioconsult/downsampled/\"\n",
    "\n",
    "for i in range(0,6):\n",
    "    path = dir_root+str(i)\n",
    "    os.mkdir(path)\n",
    "    for seg in data_segments:\n",
    "        os.mkdir(path+\"/\"+seg)\n",
    "        os.mkdir(path+\"/\"+seg+\"/Whale\")\n",
    "        os.mkdir(path+\"/\"+seg+\"/Not_Whale\")\n",
    "        \n",
    "        for _, _, files in os.walk(\"dataset/Bioconsult/32_32/\"+seg+\"/Whale\"):\n",
    "            print(len(files), files[0])\n",
    "            j = 1\n",
    "            no_of_files = len(files)\n",
    "            for img_path in files:\n",
    "                clear_output()\n",
    "                print(\"Whale\")\n",
    "                file_name = path+\"/\"+seg+\"/Whale/\"+img_path\n",
    "                print(file_name)\n",
    "                img = cv2.imread(\"dataset/Bioconsult/32_32/\"+seg+\"/Whale/\"+img_path)                \n",
    "                print(j,\"/\",no_of_files,\"(\",(j*100/no_of_files),\")\")                \n",
    "                img = downsample(img, i)\n",
    "                \n",
    "                cv2.imwrite(file_name, img)\n",
    "                j+=1\n",
    "                \n",
    "                \n",
    "        for _, _, files in os.walk(\"dataset/Bioconsult/32_32/\"+seg+\"/Not_Whale\"):\n",
    "            print(len(files), files[0])\n",
    "            j = 1\n",
    "            no_of_files = len(files)\n",
    "            for img_path in files:\n",
    "                clear_output()\n",
    "                print(\"Not Whale\")\n",
    "                file_name = path+\"/\"+seg+\"/Not_Whale/\"+img_path\n",
    "                print(file_name)\n",
    "                img = cv2.imread(\"dataset/Bioconsult/32_32/\"+seg+\"/Not_Whale/\"+img_path)\n",
    "                print(j,\"/\",no_of_files,\"(\",(j*100/no_of_files),\")\")\n",
    "                \n",
    "                img = downsample(img, i)\n",
    "                \n",
    "                cv2.imwrite(file_name, img)\n",
    "                j+=1\n",
    "    "
   ]
  },
  {
   "cell_type": "code",
   "execution_count": null,
   "metadata": {},
   "outputs": [],
   "source": []
  }
 ],
 "metadata": {
  "kernelspec": {
   "display_name": "Python 3",
   "language": "python",
   "name": "python3"
  },
  "language_info": {
   "codemirror_mode": {
    "name": "ipython",
    "version": 3
   },
   "file_extension": ".py",
   "mimetype": "text/x-python",
   "name": "python",
   "nbconvert_exporter": "python",
   "pygments_lexer": "ipython3",
   "version": "3.7.7"
  }
 },
 "nbformat": 4,
 "nbformat_minor": 4
}
