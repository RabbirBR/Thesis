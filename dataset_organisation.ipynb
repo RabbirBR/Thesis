{
 "cells": [
  {
   "cell_type": "code",
   "execution_count": null,
   "metadata": {},
   "outputs": [],
   "source": [
    "from __future__ import absolute_import, division, print_function, unicode_literals\n",
    "import cv2\n",
    "import glob, os, shutil\n",
    "\n",
    "import random\n",
    "\n",
    "from IPython.display import display\n",
    "from IPython.display import clear_output"
   ]
  },
  {
   "cell_type": "code",
   "execution_count": null,
   "metadata": {},
   "outputs": [],
   "source": [
    "def process_bioconsult(image_path, directory):\n",
    "    img_name = image_path.split(\"\\\\\")[-1].split(\".\")[0]\n",
    "#     print(img_name)\n",
    "    \n",
    "    image = cv2.imread(image_path)\n",
    "    img_height = image.shape[0]\n",
    "    img_width = image.shape[1]\n",
    "    channels = image.shape[2]\n",
    "    \n",
    "    window_size_x = 32\n",
    "    window_size_y = 32\n",
    "    count = 1\n",
    "    for y in range(0, img_height+1, window_size_y):\n",
    "        img_seg_y_min = y\n",
    "        img_seg_y_max = y + window_size_y\n",
    "\n",
    "        for x in range(0, img_width+1, window_size_x):\n",
    "            img_seg_x_min = x\n",
    "            img_seg_x_max = x + window_size_x\n",
    "            \n",
    "            cropped_image = image[img_seg_y_min:img_seg_y_max, img_seg_x_min:img_seg_x_max]\n",
    "            \n",
    "            if cropped_image.shape == (window_size_x, window_size_y, channels):\n",
    "                image_out_path = directory+\"/\"+img_name+\"_\"+str(count)+\".png\"\n",
    "                \n",
    "                cv2.imwrite(image_out_path, cropped_image)\n",
    "                \n",
    "                count += 1"
   ]
  },
  {
   "cell_type": "code",
   "execution_count": null,
   "metadata": {},
   "outputs": [],
   "source": [
    "def process_masati(image_path, directory):\n",
    "    img_name = image_path.split(\"\\\\\")[-1].split(\".\")[0]\n",
    "    \n",
    "    image = cv2.imread(image_path)\n",
    "    img_height = image.shape[0]\n",
    "    img_width = image.shape[1]\n",
    "    channels = image.shape[2]\n",
    "    \n",
    "    window_size_x = 32\n",
    "    window_size_y = 32\n",
    "    count = 1\n",
    "    for y in range(0, img_height+1, window_size_y):\n",
    "        img_seg_y_min = y\n",
    "        img_seg_y_max = y + window_size_y\n",
    "\n",
    "        for x in range(0, img_width+1, window_size_x):\n",
    "            img_seg_x_min = x\n",
    "            img_seg_x_max = x + window_size_x\n",
    "            \n",
    "            cropped_image = image[img_seg_y_min:img_seg_y_max, img_seg_x_min:img_seg_x_max]\n",
    "            \n",
    "            if cropped_image.shape == (window_size_x, window_size_y, channels):\n",
    "                image_out_path = directory+\"/\"+img_name+\"_\"+str(count)+\".png\"\n",
    "                \n",
    "                cv2.imwrite(image_out_path, cropped_image)\n",
    "                \n",
    "                count += 1"
   ]
  },
  {
   "cell_type": "markdown",
   "metadata": {},
   "source": [
    "### Processing for Bioconsult pictures"
   ]
  },
  {
   "cell_type": "code",
   "execution_count": null,
   "metadata": {},
   "outputs": [],
   "source": [
    "for file in glob.glob(\"dataset/Bioconsult/train/Whale/*.png\"):\n",
    "    process_bioconsult(file, \"dataset/Bioconsult/32_32/Whale\")"
   ]
  },
  {
   "cell_type": "code",
   "execution_count": null,
   "metadata": {},
   "outputs": [],
   "source": [
    "for file in glob.glob(\"dataset/Bioconsult/train/Water/*.png\"):\n",
    "    process_bioconsult(file, \"dataset/Bioconsult/32_32/Water\")"
   ]
  },
  {
   "cell_type": "markdown",
   "metadata": {},
   "source": [
    "### Processing for Masati-V2 pictures"
   ]
  },
  {
   "cell_type": "code",
   "execution_count": null,
   "metadata": {},
   "outputs": [],
   "source": [
    "c_all = len(glob.glob(\"dataset/MASATI-v2/water/**/*.png\", recursive=True))\n",
    "\n",
    "c = 1\n",
    "for file in glob.glob(\"dataset/MASATI-v2/water/**/*.png\", recursive=True):\n",
    "    print(\"Processing:\", c, \"out of\", c_all)\n",
    "    print(\"Processing file:\", file)\n",
    "    \n",
    "    process_masati(file, \"dataset/masati_32_32/0_Undefined\")\n",
    "    c += 1\n",
    "    clear_output()\n",
    "print(\"Done\")"
   ]
  },
  {
   "cell_type": "code",
   "execution_count": null,
   "metadata": {},
   "outputs": [],
   "source": [
    "c_all = len(glob.glob(\"dataset/MASATI-v2/land/**/*.png\", recursive=True))\n",
    "c = 1\n",
    "for file in glob.glob(\"dataset/MASATI-v2/land/**/*.png\", recursive=True):\n",
    "    print(\"Processing:\", c, \"out of\", c_all)\n",
    "    print(\"Processing file:\", file)\n",
    "    \n",
    "    process(file, \"dataset/masati_32_32/0_Undefined\")\n",
    "    c += 1\n",
    "    clear_output()\n",
    "    \n",
    "print(\"Done\")"
   ]
  },
  {
   "cell_type": "markdown",
   "metadata": {},
   "source": [
    "#### Resize the ship images to 32x32 from 512x512 pixels"
   ]
  },
  {
   "cell_type": "code",
   "execution_count": null,
   "metadata": {},
   "outputs": [],
   "source": [
    "c_all = len(glob.glob(\"dataset/MASATI-v2/detail/**/*.png\", recursive=True))\n",
    "\n",
    "c = 1\n",
    "for file in glob.glob(\"dataset/MASATI-v2/detail/**/*.png\", recursive=True):\n",
    "    print(\"Processing:\", c, \"out of\", c_all)\n",
    "    print(\"Processing file:\", file)\n",
    "    \n",
    "    img_name = file.split(\"\\\\\")[-1].split(\".\")[0]\n",
    "        \n",
    "    img = cv2.imread(file, cv2.IMREAD_UNCHANGED)\n",
    "    \n",
    "    resized = cv2.resize(img, (32, 32), interpolation = cv2.INTER_AREA)\n",
    "    \n",
    "    image_out_path = \"dataset/masati_32_32/1_Ship/\"+img_name+\".png\"\n",
    "    \n",
    "    cv2.imwrite(image_out_path, resized)\n",
    "    \n",
    "    c += 1\n",
    "    clear_output()"
   ]
  },
  {
   "cell_type": "markdown",
   "metadata": {},
   "source": [
    "#### Copy to match the number of files in undefined directory"
   ]
  },
  {
   "cell_type": "code",
   "execution_count": null,
   "metadata": {},
   "outputs": [],
   "source": [
    "l = len(glob.glob(\"dataset/masati_32_32/2_Whale/*.png\", recursive=True))\n",
    "\n",
    "while(l < 800000):\n",
    "    files = glob.glob(\"dataset/masati_32_32/2_Whale/*.png\", recursive=True)\n",
    "    c_all = len(files)\n",
    "    \n",
    "#     shutil.copy(\"dataset/masati_32_32/2_Whale\", \"dataset/masati_32_32/2_Whale\")\n",
    "    c = 1\n",
    "    for file in files:\n",
    "        clear_output()\n",
    "        print(\"Processing:\", c, \"out of\", c_all)\n",
    "        img = cv2.imread(file, cv2.IMREAD_UNCHANGED)\n",
    "        \n",
    "        img_name = file.split(\"\\\\\")[-1].split(\".\")[0]\n",
    "        \n",
    "        dst = \"dataset/masati_32_32/2_Whale/\"+img_name+\"_c.png\"\n",
    "        \n",
    "        print(\"Files:\", file, dst)\n",
    "        \n",
    "        cv2.imwrite(dst, img)\n",
    "        c += 1\n",
    "            \n",
    "    l = len(glob.glob(\"dataset/masati_32_32/2_Whale/*.png\", recursive=True))"
   ]
  },
  {
   "cell_type": "code",
   "execution_count": null,
   "metadata": {},
   "outputs": [],
   "source": [
    "l = len(glob.glob(\"dataset/masati_32_32/1_Ship/*.png\", recursive=True))\n",
    "\n",
    "while(l < 800000):\n",
    "    files = glob.glob(\"dataset/masati_32_32/1_Ship/*.png\", recursive=True)\n",
    "    c_all = len(files)\n",
    "    \n",
    "#     shutil.copy(\"dataset/masati_32_32/2_Whale\", \"dataset/masati_32_32/2_Whale\")\n",
    "    c = 1\n",
    "    for file in files:\n",
    "        clear_output()\n",
    "#         x = len(glob.glob(\"dataset/masati_32_32/1_Ship/*.png\", recursive=True))\n",
    "        print(\"Processing:\", c, \"out of\", c_all)\n",
    "        img = cv2.imread(file, cv2.IMREAD_UNCHANGED)\n",
    "        \n",
    "        img_name = file.split(\"\\\\\")[-1].split(\".\")[0]\n",
    "        \n",
    "        dst = \"dataset/masati_32_32/1_Ship/\"+img_name+\"_c.png\"\n",
    "        \n",
    "        print(\"Files:\", file, dst)\n",
    "        \n",
    "        cv2.imwrite(dst, img)\n",
    "        c += 1\n",
    "        \n",
    "        \n",
    "        \n",
    "    l = len(glob.glob(\"dataset/masati_32_32/1_Ship/*.png\", recursive=True))"
   ]
  },
  {
   "cell_type": "markdown",
   "metadata": {},
   "source": [
    "### Note\n",
    "The next part should be done after manually separating all the water and whale images. While the images are put into different folders, the \"Whale\" folder contains many images that belongs in the \"Water\" folder."
   ]
  },
  {
   "cell_type": "code",
   "execution_count": null,
   "metadata": {},
   "outputs": [],
   "source": [
    "undefined_images = glob.glob(\"dataset/masati_32_32/0_Undefined/*.png\")\n",
    "ship_images = glob.glob(\"dataset/masati_32_32/1_Ship/*.png\")\n",
    "whale_images = glob.glob(\"dataset/masati_32_32/2_Whale/*.png\")"
   ]
  },
  {
   "cell_type": "code",
   "execution_count": null,
   "metadata": {},
   "outputs": [],
   "source": [
    "random.shuffle(undefined_images)\n",
    "random.shuffle(ship_images)\n",
    "random.shuffle(whale_images)"
   ]
  },
  {
   "cell_type": "code",
   "execution_count": null,
   "metadata": {},
   "outputs": [],
   "source": [
    "print(len(undefined_images))\n",
    "print(len(ship_images))\n",
    "print(len(whale_images))"
   ]
  },
  {
   "cell_type": "code",
   "execution_count": null,
   "metadata": {},
   "outputs": [],
   "source": [
    "train_undefined_images_index = round(0.6 * len(undefined_images))\n",
    "test_undefined_images_index = round(0.8 * len(undefined_images))\n",
    "\n",
    "train_ship_index = round(0.6 * len(ship_images))\n",
    "test_ship_index = round(0.8 * len(ship_images))\n",
    "\n",
    "train_whale_index = round(0.6 * len(whale_images))\n",
    "test_whale_index = round(0.8 * len(whale_images))\n",
    "\n",
    "train_undefined_images = undefined_images[:train_undefined_images_index]\n",
    "test_undefined_images = undefined_images[train_undefined_images_index+1:test_undefined_images_index]\n",
    "eval_undefined_images = undefined_images[test_undefined_images_index+1:]\n",
    "\n",
    "train_ship = ship_images[:train_ship_index]\n",
    "test_ship = ship_images[train_ship_index+1:test_ship_index]\n",
    "eval_ship = ship_images[test_ship_index+1:]\n",
    "\n",
    "train_whale = whale_images[:train_whale_index]\n",
    "test_whale = whale_images[train_whale_index+1:test_whale_index]\n",
    "eval_whale = whale_images[test_whale_index+1:]"
   ]
  },
  {
   "cell_type": "code",
   "execution_count": null,
   "metadata": {},
   "outputs": [],
   "source": [
    "print(len(train_undefined_images), len(test_undefined_images), len(eval_undefined_images))\n",
    "print(len(train_ship), len(test_ship), len(eval_ship))\n",
    "print(len(train_whale), len(test_whale), len(eval_whale))"
   ]
  },
  {
   "cell_type": "code",
   "execution_count": null,
   "metadata": {},
   "outputs": [],
   "source": [
    "des_folder = \"dataset/32_32/Train/0_Undefined/\"\n",
    "for image_path in train_undefined_images:\n",
    "    clear_output()\n",
    "    print(\"Undefined\", image_path)\n",
    "    img_name = image_path.split(\"\\\\\")[-1]\n",
    "    shutil.copyfile(image_path, des_folder+img_name)\n",
    "\n",
    "    \n",
    "des_folder = \"dataset/32_32/Train/1_Ship/\"\n",
    "for image_path in train_ship:\n",
    "    clear_output()\n",
    "    print(\"Ship\", image_path)\n",
    "    img_name = image_path.split(\"\\\\\")[-1]\n",
    "    shutil.copyfile(image_path, des_folder+img_name)\n",
    "\n",
    "    \n",
    "\n",
    "des_folder = \"dataset/32_32/Train/2_Whale/\"\n",
    "for image_path in train_whale:\n",
    "    clear_output()\n",
    "    print(\"Whale\", image_path)\n",
    "    img_name = image_path.split(\"\\\\\")[-1]\n",
    "    shutil.copyfile(image_path, des_folder+img_name)"
   ]
  },
  {
   "cell_type": "code",
   "execution_count": null,
   "metadata": {},
   "outputs": [],
   "source": [
    "des_folder = \"dataset/32_32/Validation/0_Undefined/\"\n",
    "for image_path in test_undefined_images:\n",
    "    clear_output()\n",
    "    print(\"Undefined\", image_path)\n",
    "    img_name = image_path.split(\"\\\\\")[-1]\n",
    "    shutil.copyfile(image_path, des_folder+img_name)\n",
    "\n",
    "    \n",
    "des_folder = \"dataset/32_32/Validation/1_Ship/\"\n",
    "for image_path in test_ship:\n",
    "    clear_output()\n",
    "    print(\"Ship\", image_path)\n",
    "    img_name = image_path.split(\"\\\\\")[-1]\n",
    "    shutil.copyfile(image_path, des_folder+img_name)\n",
    "\n",
    "des_folder = \"dataset/32_32/Validation/2_Whale/\"\n",
    "for image_path in test_whale:\n",
    "    clear_output()\n",
    "    print(\"Whale\", image_path)\n",
    "    img_name = image_path.split(\"\\\\\")[-1]\n",
    "    shutil.copyfile(image_path, des_folder+img_name)"
   ]
  },
  {
   "cell_type": "code",
   "execution_count": null,
   "metadata": {},
   "outputs": [],
   "source": [
    "des_folder = \"dataset/32_32/Evaluation/0_Undefined/\"\n",
    "for image_path in eval_undefined_images:\n",
    "    clear_output()\n",
    "    print(\"Undefined\", image_path)\n",
    "    img_name = image_path.split(\"\\\\\")[-1]\n",
    "    shutil.copyfile(image_path, des_folder+img_name)\n",
    "\n",
    "    \n",
    "des_folder = \"dataset/32_32/Evaluation/1_Ship/\"\n",
    "for image_path in eval_ship:\n",
    "    clear_output()\n",
    "    print(\"Ship\", image_path)\n",
    "    img_name = image_path.split(\"\\\\\")[-1]\n",
    "    shutil.copyfile(image_path, des_folder+img_name)\n",
    "\n",
    "    \n",
    "\n",
    "des_folder = \"dataset/32_32/Evaluation/2_Whale/\"\n",
    "for image_path in eval_whale:\n",
    "    clear_output()\n",
    "    print(\"Whale\", image_path)\n",
    "    img_name = image_path.split(\"\\\\\")[-1]\n",
    "    shutil.copyfile(image_path, des_folder+img_name)"
   ]
  }
 ],
 "metadata": {
  "kernelspec": {
   "display_name": "Python 3",
   "language": "python",
   "name": "python3"
  },
  "language_info": {
   "codemirror_mode": {
    "name": "ipython",
    "version": 3
   },
   "file_extension": ".py",
   "mimetype": "text/x-python",
   "name": "python",
   "nbconvert_exporter": "python",
   "pygments_lexer": "ipython3",
   "version": "3.7.7"
  }
 },
 "nbformat": 4,
 "nbformat_minor": 4
}
